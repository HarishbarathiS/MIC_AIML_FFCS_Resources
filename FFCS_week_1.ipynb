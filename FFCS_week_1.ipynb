{
  "cells": [
    {
      "cell_type": "markdown",
      "id": "01b9adc0",
      "metadata": {
        "id": "01b9adc0"
      },
      "source": [
        "# Machine Learning Workflow"
      ]
    },
    {
      "cell_type": "markdown",
      "id": "a5294b9e",
      "metadata": {
        "id": "a5294b9e"
      },
      "source": [
        "The Objective of this notebook is to familiarize you with the Machine Learning Workflow. It doesn't cover everything.The only pre-requisite is very basic Python.\n",
        "\n",
        "### Machine Learning Workflow:\n",
        "\n",
        "1. Frame the problem and look at the big picture.\n",
        "2. Get the data.\n",
        "3. Explore the data to gain insights.\n",
        "4. Prepare the data to better expose the underlying data patterns to machine learning algorithms.\n",
        "5. Explore many different models and shortlist the best ones.\n",
        "6. Fine-tune your models and combine them into a great solution.\n",
        "7. Present your solution.\n",
        "8. Launch, monitor, and maintain your system.\n",
        "\n",
        "\n",
        "For now we will simplify and condense it into 6 steps:\n",
        "1. Load and prepare Data\n",
        "2. Exploratory Data Analysis\n",
        "3. Model Selection\n",
        "4. Training\n",
        "5. Testing\n",
        "6. Save/Load Model\n",
        "\n",
        "The rest we will cover later on."
      ]
    },
    {
      "cell_type": "markdown",
      "id": "ee796048",
      "metadata": {
        "id": "ee796048"
      },
      "source": [
        "## Linear Regression - \" Where do you draw the Line? \"\n",
        "\n",
        "In your Physics and Chemistry labs you often have to take readings and plot them on a graph. And to prove some sort of Linear relationship you draw a line on this graph.\n",
        "\n",
        "But How? How do you know where to draw the line.\n",
        "\n",
        "The answer is obvious. \"Just draw the line that **best fits** the points of data.\" <br>\n",
        "Focus on those words **best fit**. Afterall you wouldn't just randomly draw a line and call it a day. There is some criteria, some intuition in your head that you follow to achieve this.\n",
        "\n",
        "If you want a computer to do this you will need to convert it into an algorithm. That's where Linear Regression comes in. <br>\n",
        "How do you decide whether someting is a good fit? Well you would need some measurement of wrongness. This measure of wrongness we call the **Loss Function**. There are various Loss Functions that are used throughout Machine Learning. The end goal of any ML model is to find a line or curve which corresponds with the lowest value of the Loss Function for the given data (and also for new data). <br>\n",
        "\n",
        "Coming back to finding the best fit line, Linear Regression does just that ,it minimizes the Loss Function through the use of something called Gradient Descent.<br>\n",
        "\n",
        "We will cover how it achieves this in later notebooks. But if you are interested you should definetly check out the videos in the Roadmap."
      ]
    },
    {
      "cell_type": "markdown",
      "id": "VpajyDJlp8Np",
      "metadata": {
        "id": "VpajyDJlp8Np"
      },
      "source": [
        "### Objective:\n",
        "To get your hands dirty we will use a simple dataset. It consists of only two variables TV-Ads and Sales.\n",
        "\n",
        "The dataset is availabe at [tvmarketing.csv](https://www.kaggle.com/datasets/devzohaib/tvmarketingcsv) (you will need to make kaggle account).\n",
        "\n",
        "We will use the number of TV-Ads to predict Sales. <br>\n",
        "\n",
        "These variables which we use for prediction are called [<u>features</u>](https://cogitotech.medium.com/what-are-features-in-machine-learning-and-why-it-is-important-e72f9905b54d).\n",
        "And the thing which we are predicting is called the [<u>target</u>](https://h2o.ai/wiki/target-variable/).\n",
        "\n",
        "This entire process of prediction is called [<u>Regression</u>](https://www.simplilearn.com/regression-vs-classification-in-machine-learning-article). Because we are predicting a contineous value the \"Number of Sales\" as opposed to [<u>Classification</u>](https://www.simplilearn.com/regression-vs-classification-in-machine-learning-article) where the objective is to Categorize by predicting a discrete value.<br>\n",
        "\n",
        "For example: Predicting whether you are healthy or not based on a set of factors, in this case prediction can only fall into two categories Healthy or Not Healthy.\n",
        "\n",
        "And because we are using Linear Regression, it requires both a feature and a target (i.e we train it using both the question and the answer) it is called [<u>Supervised Learning</u>](https://www.ibm.com/topics/supervised-learning#:~:text=Supervised%20learning%2C%20also%20known%20as,data%20or%20predict%20outcomes%20accurately.). There are other algorithms which don't require questions and answers, where we just pass the data to the algorithm and it finds patterns in the data, it is called [<u>Unsupervised Learning</u>](https://www.ibm.com/topics/unsupervised-learning).\n",
        "\n",
        "Alright thats enough Terminology. Lets begin.\n",
        "\n"
      ]
    },
    {
      "cell_type": "markdown",
      "id": "01ee4bd8",
      "metadata": {
        "id": "01ee4bd8"
      },
      "source": [
        "### Libraries we will be using:"
      ]
    },
    {
      "cell_type": "markdown",
      "id": "cfcb428e",
      "metadata": {
        "id": "cfcb428e"
      },
      "source": [
        "#### Installation:\n",
        "1. Install Python.\n",
        "2. Install Jupyter\n",
        "3. Install the libraries - Run the following in your command line.\n",
        "> pip install numpy pandas matplotlib scikit-learn seaborn joblib\n",
        "\n",
        "Alternatively you can use [GoogleCollab](https://colab.research.google.com/)\n",
        "    "
      ]
    },
    {
      "cell_type": "code",
      "execution_count": 217,
      "id": "d6b9026c",
      "metadata": {
        "id": "d6b9026c"
      },
      "outputs": [],
      "source": [
        "import numpy as np\n",
        "import pandas  as pd\n",
        "import matplotlib.pyplot as plt\n",
        "import sklearn"
      ]
    },
    {
      "cell_type": "markdown",
      "id": "eb3bbc6d",
      "metadata": {
        "id": "eb3bbc6d"
      },
      "source": [
        "**Numpy:**  Allows us to use mathematical functions not available in standard Python.<br>\n",
        "**Pandas:** Excel for python. <br>\n",
        "**Matplotlib:** For Plotting graphs.<br>\n",
        "**Sci-kit Learn:** The Main ML Library for python. It contains all the algorithms and utilities for ML.<br>"
      ]
    },
    {
      "cell_type": "markdown",
      "id": "dc01be33",
      "metadata": {
        "id": "dc01be33"
      },
      "source": [
        "### 1. Load and Prepare Data"
      ]
    },
    {
      "cell_type": "code",
      "execution_count": 218,
      "id": "e35c159b",
      "metadata": {
        "id": "e35c159b"
      },
      "outputs": [],
      "source": [
        "filepath = 'tvmarketing.csv'\n",
        "data = pd.read_csv(filepath)"
      ]
    },
    {
      "cell_type": "markdown",
      "id": "RsoLAAaNoxsr",
      "metadata": {
        "id": "RsoLAAaNoxsr"
      },
      "source": [
        "Here we first set the filepath or location of the file in which the data is stored.<br>\n",
        "Pandas is then used to load the data using pd.read_csv() where we pass the filepath as the argument."
      ]
    },
    {
      "cell_type": "markdown",
      "id": "5J9viyyepmXH",
      "metadata": {
        "id": "5J9viyyepmXH"
      },
      "source": [
        "Now that the data is loaded. Lets check it out."
      ]
    },
    {
      "cell_type": "code",
      "execution_count": 219,
      "id": "nWYvpQGQoqC2",
      "metadata": {
        "colab": {
          "base_uri": "https://localhost:8080/",
          "height": 206
        },
        "id": "nWYvpQGQoqC2",
        "outputId": "d46263bd-b102-4da5-feba-635c3d90e36b"
      },
      "outputs": [
        {
          "data": {
            "text/html": [
              "\n",
              "  <div id=\"df-9734b485-4c94-4e6d-9daa-040456f6db18\" class=\"colab-df-container\">\n",
              "    <div>\n",
              "<style scoped>\n",
              "    .dataframe tbody tr th:only-of-type {\n",
              "        vertical-align: middle;\n",
              "    }\n",
              "\n",
              "    .dataframe tbody tr th {\n",
              "        vertical-align: top;\n",
              "    }\n",
              "\n",
              "    .dataframe thead th {\n",
              "        text-align: right;\n",
              "    }\n",
              "</style>\n",
              "<table border=\"1\" class=\"dataframe\">\n",
              "  <thead>\n",
              "    <tr style=\"text-align: right;\">\n",
              "      <th></th>\n",
              "      <th>TV</th>\n",
              "      <th>Sales</th>\n",
              "    </tr>\n",
              "  </thead>\n",
              "  <tbody>\n",
              "    <tr>\n",
              "      <th>0</th>\n",
              "      <td>230.1</td>\n",
              "      <td>22.1</td>\n",
              "    </tr>\n",
              "    <tr>\n",
              "      <th>1</th>\n",
              "      <td>44.5</td>\n",
              "      <td>10.4</td>\n",
              "    </tr>\n",
              "    <tr>\n",
              "      <th>2</th>\n",
              "      <td>17.2</td>\n",
              "      <td>9.3</td>\n",
              "    </tr>\n",
              "    <tr>\n",
              "      <th>3</th>\n",
              "      <td>151.5</td>\n",
              "      <td>18.5</td>\n",
              "    </tr>\n",
              "    <tr>\n",
              "      <th>4</th>\n",
              "      <td>180.8</td>\n",
              "      <td>12.9</td>\n",
              "    </tr>\n",
              "  </tbody>\n",
              "</table>\n",
              "</div>\n",
              "    <div class=\"colab-df-buttons\">\n",
              "\n",
              "  <div class=\"colab-df-container\">\n",
              "    <button class=\"colab-df-convert\" onclick=\"convertToInteractive('df-9734b485-4c94-4e6d-9daa-040456f6db18')\"\n",
              "            title=\"Convert this dataframe to an interactive table.\"\n",
              "            style=\"display:none;\">\n",
              "\n",
              "  <svg xmlns=\"http://www.w3.org/2000/svg\" height=\"24px\" viewBox=\"0 -960 960 960\">\n",
              "    <path d=\"M120-120v-720h720v720H120Zm60-500h600v-160H180v160Zm220 220h160v-160H400v160Zm0 220h160v-160H400v160ZM180-400h160v-160H180v160Zm440 0h160v-160H620v160ZM180-180h160v-160H180v160Zm440 0h160v-160H620v160Z\"/>\n",
              "  </svg>\n",
              "    </button>\n",
              "\n",
              "  <style>\n",
              "    .colab-df-container {\n",
              "      display:flex;\n",
              "      gap: 12px;\n",
              "    }\n",
              "\n",
              "    .colab-df-convert {\n",
              "      background-color: #E8F0FE;\n",
              "      border: none;\n",
              "      border-radius: 50%;\n",
              "      cursor: pointer;\n",
              "      display: none;\n",
              "      fill: #1967D2;\n",
              "      height: 32px;\n",
              "      padding: 0 0 0 0;\n",
              "      width: 32px;\n",
              "    }\n",
              "\n",
              "    .colab-df-convert:hover {\n",
              "      background-color: #E2EBFA;\n",
              "      box-shadow: 0px 1px 2px rgba(60, 64, 67, 0.3), 0px 1px 3px 1px rgba(60, 64, 67, 0.15);\n",
              "      fill: #174EA6;\n",
              "    }\n",
              "\n",
              "    .colab-df-buttons div {\n",
              "      margin-bottom: 4px;\n",
              "    }\n",
              "\n",
              "    [theme=dark] .colab-df-convert {\n",
              "      background-color: #3B4455;\n",
              "      fill: #D2E3FC;\n",
              "    }\n",
              "\n",
              "    [theme=dark] .colab-df-convert:hover {\n",
              "      background-color: #434B5C;\n",
              "      box-shadow: 0px 1px 3px 1px rgba(0, 0, 0, 0.15);\n",
              "      filter: drop-shadow(0px 1px 2px rgba(0, 0, 0, 0.3));\n",
              "      fill: #FFFFFF;\n",
              "    }\n",
              "  </style>\n",
              "\n",
              "    <script>\n",
              "      const buttonEl =\n",
              "        document.querySelector('#df-9734b485-4c94-4e6d-9daa-040456f6db18 button.colab-df-convert');\n",
              "      buttonEl.style.display =\n",
              "        google.colab.kernel.accessAllowed ? 'block' : 'none';\n",
              "\n",
              "      async function convertToInteractive(key) {\n",
              "        const element = document.querySelector('#df-9734b485-4c94-4e6d-9daa-040456f6db18');\n",
              "        const dataTable =\n",
              "          await google.colab.kernel.invokeFunction('convertToInteractive',\n",
              "                                                    [key], {});\n",
              "        if (!dataTable) return;\n",
              "\n",
              "        const docLinkHtml = 'Like what you see? Visit the ' +\n",
              "          '<a target=\"_blank\" href=https://colab.research.google.com/notebooks/data_table.ipynb>data table notebook</a>'\n",
              "          + ' to learn more about interactive tables.';\n",
              "        element.innerHTML = '';\n",
              "        dataTable['output_type'] = 'display_data';\n",
              "        await google.colab.output.renderOutput(dataTable, element);\n",
              "        const docLink = document.createElement('div');\n",
              "        docLink.innerHTML = docLinkHtml;\n",
              "        element.appendChild(docLink);\n",
              "      }\n",
              "    </script>\n",
              "  </div>\n",
              "\n",
              "\n",
              "<div id=\"df-73111652-794c-4a71-8419-58152d48b9d1\">\n",
              "  <button class=\"colab-df-quickchart\" onclick=\"quickchart('df-73111652-794c-4a71-8419-58152d48b9d1')\"\n",
              "            title=\"Suggest charts\"\n",
              "            style=\"display:none;\">\n",
              "\n",
              "<svg xmlns=\"http://www.w3.org/2000/svg\" height=\"24px\"viewBox=\"0 0 24 24\"\n",
              "     width=\"24px\">\n",
              "    <g>\n",
              "        <path d=\"M19 3H5c-1.1 0-2 .9-2 2v14c0 1.1.9 2 2 2h14c1.1 0 2-.9 2-2V5c0-1.1-.9-2-2-2zM9 17H7v-7h2v7zm4 0h-2V7h2v10zm4 0h-2v-4h2v4z\"/>\n",
              "    </g>\n",
              "</svg>\n",
              "  </button>\n",
              "\n",
              "<style>\n",
              "  .colab-df-quickchart {\n",
              "      --bg-color: #E8F0FE;\n",
              "      --fill-color: #1967D2;\n",
              "      --hover-bg-color: #E2EBFA;\n",
              "      --hover-fill-color: #174EA6;\n",
              "      --disabled-fill-color: #AAA;\n",
              "      --disabled-bg-color: #DDD;\n",
              "  }\n",
              "\n",
              "  [theme=dark] .colab-df-quickchart {\n",
              "      --bg-color: #3B4455;\n",
              "      --fill-color: #D2E3FC;\n",
              "      --hover-bg-color: #434B5C;\n",
              "      --hover-fill-color: #FFFFFF;\n",
              "      --disabled-bg-color: #3B4455;\n",
              "      --disabled-fill-color: #666;\n",
              "  }\n",
              "\n",
              "  .colab-df-quickchart {\n",
              "    background-color: var(--bg-color);\n",
              "    border: none;\n",
              "    border-radius: 50%;\n",
              "    cursor: pointer;\n",
              "    display: none;\n",
              "    fill: var(--fill-color);\n",
              "    height: 32px;\n",
              "    padding: 0;\n",
              "    width: 32px;\n",
              "  }\n",
              "\n",
              "  .colab-df-quickchart:hover {\n",
              "    background-color: var(--hover-bg-color);\n",
              "    box-shadow: 0 1px 2px rgba(60, 64, 67, 0.3), 0 1px 3px 1px rgba(60, 64, 67, 0.15);\n",
              "    fill: var(--button-hover-fill-color);\n",
              "  }\n",
              "\n",
              "  .colab-df-quickchart-complete:disabled,\n",
              "  .colab-df-quickchart-complete:disabled:hover {\n",
              "    background-color: var(--disabled-bg-color);\n",
              "    fill: var(--disabled-fill-color);\n",
              "    box-shadow: none;\n",
              "  }\n",
              "\n",
              "  .colab-df-spinner {\n",
              "    border: 2px solid var(--fill-color);\n",
              "    border-color: transparent;\n",
              "    border-bottom-color: var(--fill-color);\n",
              "    animation:\n",
              "      spin 1s steps(1) infinite;\n",
              "  }\n",
              "\n",
              "  @keyframes spin {\n",
              "    0% {\n",
              "      border-color: transparent;\n",
              "      border-bottom-color: var(--fill-color);\n",
              "      border-left-color: var(--fill-color);\n",
              "    }\n",
              "    20% {\n",
              "      border-color: transparent;\n",
              "      border-left-color: var(--fill-color);\n",
              "      border-top-color: var(--fill-color);\n",
              "    }\n",
              "    30% {\n",
              "      border-color: transparent;\n",
              "      border-left-color: var(--fill-color);\n",
              "      border-top-color: var(--fill-color);\n",
              "      border-right-color: var(--fill-color);\n",
              "    }\n",
              "    40% {\n",
              "      border-color: transparent;\n",
              "      border-right-color: var(--fill-color);\n",
              "      border-top-color: var(--fill-color);\n",
              "    }\n",
              "    60% {\n",
              "      border-color: transparent;\n",
              "      border-right-color: var(--fill-color);\n",
              "    }\n",
              "    80% {\n",
              "      border-color: transparent;\n",
              "      border-right-color: var(--fill-color);\n",
              "      border-bottom-color: var(--fill-color);\n",
              "    }\n",
              "    90% {\n",
              "      border-color: transparent;\n",
              "      border-bottom-color: var(--fill-color);\n",
              "    }\n",
              "  }\n",
              "</style>\n",
              "\n",
              "  <script>\n",
              "    async function quickchart(key) {\n",
              "      const quickchartButtonEl =\n",
              "        document.querySelector('#' + key + ' button');\n",
              "      quickchartButtonEl.disabled = true;  // To prevent multiple clicks.\n",
              "      quickchartButtonEl.classList.add('colab-df-spinner');\n",
              "      try {\n",
              "        const charts = await google.colab.kernel.invokeFunction(\n",
              "            'suggestCharts', [key], {});\n",
              "      } catch (error) {\n",
              "        console.error('Error during call to suggestCharts:', error);\n",
              "      }\n",
              "      quickchartButtonEl.classList.remove('colab-df-spinner');\n",
              "      quickchartButtonEl.classList.add('colab-df-quickchart-complete');\n",
              "    }\n",
              "    (() => {\n",
              "      let quickchartButtonEl =\n",
              "        document.querySelector('#df-73111652-794c-4a71-8419-58152d48b9d1 button');\n",
              "      quickchartButtonEl.style.display =\n",
              "        google.colab.kernel.accessAllowed ? 'block' : 'none';\n",
              "    })();\n",
              "  </script>\n",
              "</div>\n",
              "\n",
              "    </div>\n",
              "  </div>\n"
            ],
            "text/plain": [
              "      TV  Sales\n",
              "0  230.1   22.1\n",
              "1   44.5   10.4\n",
              "2   17.2    9.3\n",
              "3  151.5   18.5\n",
              "4  180.8   12.9"
            ]
          },
          "execution_count": 219,
          "metadata": {},
          "output_type": "execute_result"
        }
      ],
      "source": [
        "data.head() # Shows the first 5 rows of the dataset"
      ]
    },
    {
      "cell_type": "code",
      "execution_count": 220,
      "id": "0nVNAYf_0byX",
      "metadata": {
        "colab": {
          "base_uri": "https://localhost:8080/"
        },
        "id": "0nVNAYf_0byX",
        "outputId": "d515c48c-8f43-45e3-dba3-565bde09c5fc"
      },
      "outputs": [
        {
          "name": "stdout",
          "output_type": "stream",
          "text": [
            "<class 'pandas.core.frame.DataFrame'>\n",
            "RangeIndex: 200 entries, 0 to 199\n",
            "Data columns (total 2 columns):\n",
            " #   Column  Non-Null Count  Dtype  \n",
            "---  ------  --------------  -----  \n",
            " 0   TV      200 non-null    float64\n",
            " 1   Sales   200 non-null    float64\n",
            "dtypes: float64(2)\n",
            "memory usage: 3.2 KB\n"
          ]
        }
      ],
      "source": [
        "data.info()"
      ]
    },
    {
      "cell_type": "code",
      "execution_count": 221,
      "id": "VSpU0zg5083G",
      "metadata": {
        "colab": {
          "base_uri": "https://localhost:8080/",
          "height": 300
        },
        "id": "VSpU0zg5083G",
        "outputId": "ff243d51-c3b1-4d28-a7f1-9b793f0cebbc"
      },
      "outputs": [
        {
          "data": {
            "text/html": [
              "\n",
              "  <div id=\"df-f5e694a7-23b4-4c5a-968d-d0cc5732ed5d\" class=\"colab-df-container\">\n",
              "    <div>\n",
              "<style scoped>\n",
              "    .dataframe tbody tr th:only-of-type {\n",
              "        vertical-align: middle;\n",
              "    }\n",
              "\n",
              "    .dataframe tbody tr th {\n",
              "        vertical-align: top;\n",
              "    }\n",
              "\n",
              "    .dataframe thead th {\n",
              "        text-align: right;\n",
              "    }\n",
              "</style>\n",
              "<table border=\"1\" class=\"dataframe\">\n",
              "  <thead>\n",
              "    <tr style=\"text-align: right;\">\n",
              "      <th></th>\n",
              "      <th>TV</th>\n",
              "      <th>Sales</th>\n",
              "    </tr>\n",
              "  </thead>\n",
              "  <tbody>\n",
              "    <tr>\n",
              "      <th>count</th>\n",
              "      <td>200.000000</td>\n",
              "      <td>200.000000</td>\n",
              "    </tr>\n",
              "    <tr>\n",
              "      <th>mean</th>\n",
              "      <td>147.042500</td>\n",
              "      <td>14.022500</td>\n",
              "    </tr>\n",
              "    <tr>\n",
              "      <th>std</th>\n",
              "      <td>85.854236</td>\n",
              "      <td>5.217457</td>\n",
              "    </tr>\n",
              "    <tr>\n",
              "      <th>min</th>\n",
              "      <td>0.700000</td>\n",
              "      <td>1.600000</td>\n",
              "    </tr>\n",
              "    <tr>\n",
              "      <th>25%</th>\n",
              "      <td>74.375000</td>\n",
              "      <td>10.375000</td>\n",
              "    </tr>\n",
              "    <tr>\n",
              "      <th>50%</th>\n",
              "      <td>149.750000</td>\n",
              "      <td>12.900000</td>\n",
              "    </tr>\n",
              "    <tr>\n",
              "      <th>75%</th>\n",
              "      <td>218.825000</td>\n",
              "      <td>17.400000</td>\n",
              "    </tr>\n",
              "    <tr>\n",
              "      <th>max</th>\n",
              "      <td>296.400000</td>\n",
              "      <td>27.000000</td>\n",
              "    </tr>\n",
              "  </tbody>\n",
              "</table>\n",
              "</div>\n",
              "    <div class=\"colab-df-buttons\">\n",
              "\n",
              "  <div class=\"colab-df-container\">\n",
              "    <button class=\"colab-df-convert\" onclick=\"convertToInteractive('df-f5e694a7-23b4-4c5a-968d-d0cc5732ed5d')\"\n",
              "            title=\"Convert this dataframe to an interactive table.\"\n",
              "            style=\"display:none;\">\n",
              "\n",
              "  <svg xmlns=\"http://www.w3.org/2000/svg\" height=\"24px\" viewBox=\"0 -960 960 960\">\n",
              "    <path d=\"M120-120v-720h720v720H120Zm60-500h600v-160H180v160Zm220 220h160v-160H400v160Zm0 220h160v-160H400v160ZM180-400h160v-160H180v160Zm440 0h160v-160H620v160ZM180-180h160v-160H180v160Zm440 0h160v-160H620v160Z\"/>\n",
              "  </svg>\n",
              "    </button>\n",
              "\n",
              "  <style>\n",
              "    .colab-df-container {\n",
              "      display:flex;\n",
              "      gap: 12px;\n",
              "    }\n",
              "\n",
              "    .colab-df-convert {\n",
              "      background-color: #E8F0FE;\n",
              "      border: none;\n",
              "      border-radius: 50%;\n",
              "      cursor: pointer;\n",
              "      display: none;\n",
              "      fill: #1967D2;\n",
              "      height: 32px;\n",
              "      padding: 0 0 0 0;\n",
              "      width: 32px;\n",
              "    }\n",
              "\n",
              "    .colab-df-convert:hover {\n",
              "      background-color: #E2EBFA;\n",
              "      box-shadow: 0px 1px 2px rgba(60, 64, 67, 0.3), 0px 1px 3px 1px rgba(60, 64, 67, 0.15);\n",
              "      fill: #174EA6;\n",
              "    }\n",
              "\n",
              "    .colab-df-buttons div {\n",
              "      margin-bottom: 4px;\n",
              "    }\n",
              "\n",
              "    [theme=dark] .colab-df-convert {\n",
              "      background-color: #3B4455;\n",
              "      fill: #D2E3FC;\n",
              "    }\n",
              "\n",
              "    [theme=dark] .colab-df-convert:hover {\n",
              "      background-color: #434B5C;\n",
              "      box-shadow: 0px 1px 3px 1px rgba(0, 0, 0, 0.15);\n",
              "      filter: drop-shadow(0px 1px 2px rgba(0, 0, 0, 0.3));\n",
              "      fill: #FFFFFF;\n",
              "    }\n",
              "  </style>\n",
              "\n",
              "    <script>\n",
              "      const buttonEl =\n",
              "        document.querySelector('#df-f5e694a7-23b4-4c5a-968d-d0cc5732ed5d button.colab-df-convert');\n",
              "      buttonEl.style.display =\n",
              "        google.colab.kernel.accessAllowed ? 'block' : 'none';\n",
              "\n",
              "      async function convertToInteractive(key) {\n",
              "        const element = document.querySelector('#df-f5e694a7-23b4-4c5a-968d-d0cc5732ed5d');\n",
              "        const dataTable =\n",
              "          await google.colab.kernel.invokeFunction('convertToInteractive',\n",
              "                                                    [key], {});\n",
              "        if (!dataTable) return;\n",
              "\n",
              "        const docLinkHtml = 'Like what you see? Visit the ' +\n",
              "          '<a target=\"_blank\" href=https://colab.research.google.com/notebooks/data_table.ipynb>data table notebook</a>'\n",
              "          + ' to learn more about interactive tables.';\n",
              "        element.innerHTML = '';\n",
              "        dataTable['output_type'] = 'display_data';\n",
              "        await google.colab.output.renderOutput(dataTable, element);\n",
              "        const docLink = document.createElement('div');\n",
              "        docLink.innerHTML = docLinkHtml;\n",
              "        element.appendChild(docLink);\n",
              "      }\n",
              "    </script>\n",
              "  </div>\n",
              "\n",
              "\n",
              "<div id=\"df-33882c48-3b83-4dc1-ad92-a886d2f06e7a\">\n",
              "  <button class=\"colab-df-quickchart\" onclick=\"quickchart('df-33882c48-3b83-4dc1-ad92-a886d2f06e7a')\"\n",
              "            title=\"Suggest charts\"\n",
              "            style=\"display:none;\">\n",
              "\n",
              "<svg xmlns=\"http://www.w3.org/2000/svg\" height=\"24px\"viewBox=\"0 0 24 24\"\n",
              "     width=\"24px\">\n",
              "    <g>\n",
              "        <path d=\"M19 3H5c-1.1 0-2 .9-2 2v14c0 1.1.9 2 2 2h14c1.1 0 2-.9 2-2V5c0-1.1-.9-2-2-2zM9 17H7v-7h2v7zm4 0h-2V7h2v10zm4 0h-2v-4h2v4z\"/>\n",
              "    </g>\n",
              "</svg>\n",
              "  </button>\n",
              "\n",
              "<style>\n",
              "  .colab-df-quickchart {\n",
              "      --bg-color: #E8F0FE;\n",
              "      --fill-color: #1967D2;\n",
              "      --hover-bg-color: #E2EBFA;\n",
              "      --hover-fill-color: #174EA6;\n",
              "      --disabled-fill-color: #AAA;\n",
              "      --disabled-bg-color: #DDD;\n",
              "  }\n",
              "\n",
              "  [theme=dark] .colab-df-quickchart {\n",
              "      --bg-color: #3B4455;\n",
              "      --fill-color: #D2E3FC;\n",
              "      --hover-bg-color: #434B5C;\n",
              "      --hover-fill-color: #FFFFFF;\n",
              "      --disabled-bg-color: #3B4455;\n",
              "      --disabled-fill-color: #666;\n",
              "  }\n",
              "\n",
              "  .colab-df-quickchart {\n",
              "    background-color: var(--bg-color);\n",
              "    border: none;\n",
              "    border-radius: 50%;\n",
              "    cursor: pointer;\n",
              "    display: none;\n",
              "    fill: var(--fill-color);\n",
              "    height: 32px;\n",
              "    padding: 0;\n",
              "    width: 32px;\n",
              "  }\n",
              "\n",
              "  .colab-df-quickchart:hover {\n",
              "    background-color: var(--hover-bg-color);\n",
              "    box-shadow: 0 1px 2px rgba(60, 64, 67, 0.3), 0 1px 3px 1px rgba(60, 64, 67, 0.15);\n",
              "    fill: var(--button-hover-fill-color);\n",
              "  }\n",
              "\n",
              "  .colab-df-quickchart-complete:disabled,\n",
              "  .colab-df-quickchart-complete:disabled:hover {\n",
              "    background-color: var(--disabled-bg-color);\n",
              "    fill: var(--disabled-fill-color);\n",
              "    box-shadow: none;\n",
              "  }\n",
              "\n",
              "  .colab-df-spinner {\n",
              "    border: 2px solid var(--fill-color);\n",
              "    border-color: transparent;\n",
              "    border-bottom-color: var(--fill-color);\n",
              "    animation:\n",
              "      spin 1s steps(1) infinite;\n",
              "  }\n",
              "\n",
              "  @keyframes spin {\n",
              "    0% {\n",
              "      border-color: transparent;\n",
              "      border-bottom-color: var(--fill-color);\n",
              "      border-left-color: var(--fill-color);\n",
              "    }\n",
              "    20% {\n",
              "      border-color: transparent;\n",
              "      border-left-color: var(--fill-color);\n",
              "      border-top-color: var(--fill-color);\n",
              "    }\n",
              "    30% {\n",
              "      border-color: transparent;\n",
              "      border-left-color: var(--fill-color);\n",
              "      border-top-color: var(--fill-color);\n",
              "      border-right-color: var(--fill-color);\n",
              "    }\n",
              "    40% {\n",
              "      border-color: transparent;\n",
              "      border-right-color: var(--fill-color);\n",
              "      border-top-color: var(--fill-color);\n",
              "    }\n",
              "    60% {\n",
              "      border-color: transparent;\n",
              "      border-right-color: var(--fill-color);\n",
              "    }\n",
              "    80% {\n",
              "      border-color: transparent;\n",
              "      border-right-color: var(--fill-color);\n",
              "      border-bottom-color: var(--fill-color);\n",
              "    }\n",
              "    90% {\n",
              "      border-color: transparent;\n",
              "      border-bottom-color: var(--fill-color);\n",
              "    }\n",
              "  }\n",
              "</style>\n",
              "\n",
              "  <script>\n",
              "    async function quickchart(key) {\n",
              "      const quickchartButtonEl =\n",
              "        document.querySelector('#' + key + ' button');\n",
              "      quickchartButtonEl.disabled = true;  // To prevent multiple clicks.\n",
              "      quickchartButtonEl.classList.add('colab-df-spinner');\n",
              "      try {\n",
              "        const charts = await google.colab.kernel.invokeFunction(\n",
              "            'suggestCharts', [key], {});\n",
              "      } catch (error) {\n",
              "        console.error('Error during call to suggestCharts:', error);\n",
              "      }\n",
              "      quickchartButtonEl.classList.remove('colab-df-spinner');\n",
              "      quickchartButtonEl.classList.add('colab-df-quickchart-complete');\n",
              "    }\n",
              "    (() => {\n",
              "      let quickchartButtonEl =\n",
              "        document.querySelector('#df-33882c48-3b83-4dc1-ad92-a886d2f06e7a button');\n",
              "      quickchartButtonEl.style.display =\n",
              "        google.colab.kernel.accessAllowed ? 'block' : 'none';\n",
              "    })();\n",
              "  </script>\n",
              "</div>\n",
              "\n",
              "    </div>\n",
              "  </div>\n"
            ],
            "text/plain": [
              "               TV       Sales\n",
              "count  200.000000  200.000000\n",
              "mean   147.042500   14.022500\n",
              "std     85.854236    5.217457\n",
              "min      0.700000    1.600000\n",
              "25%     74.375000   10.375000\n",
              "50%    149.750000   12.900000\n",
              "75%    218.825000   17.400000\n",
              "max    296.400000   27.000000"
            ]
          },
          "execution_count": 221,
          "metadata": {},
          "output_type": "execute_result"
        }
      ],
      "source": [
        "data.describe()"
      ]
    },
    {
      "cell_type": "markdown",
      "id": "iJEFVOhyP8Nc",
      "metadata": {
        "id": "iJEFVOhyP8Nc"
      },
      "source": [
        "Both [df.info()](https://pandas.pydata.org/docs/reference/api/pandas.DataFrame.info.html) and [df.describe()](https://pandas.pydata.org/docs/reference/api/pandas.DataFrame.describe.html#pandas.DataFrame.describe) give general stats of the Data."
      ]
    },
    {
      "cell_type": "markdown",
      "id": "jz7kKTOfRp5_",
      "metadata": {
        "id": "jz7kKTOfRp5_"
      },
      "source": [
        "As the Dataset is not very complex Preprocessing is not necessary. In any practical data the dataset will be much larger and will have a many more features and problems. You will have to deal with [Feature Engineering](), [Missing Values](), [Categorical Variables]() (i.e Non-numeric data), [Overfitting/Underfitting]() .etc."
      ]
    },
    {
      "cell_type": "markdown",
      "id": "8cf74d5f",
      "metadata": {
        "id": "8cf74d5f"
      },
      "source": [
        "### 2. Exploratory Data Analysis"
      ]
    },
    {
      "cell_type": "markdown",
      "id": "ejvx7hKxRh5e",
      "metadata": {
        "id": "ejvx7hKxRh5e"
      },
      "source": [
        "Plotting the data to find any obvious patterns."
      ]
    },
    {
      "cell_type": "code",
      "execution_count": 236,
      "id": "GB8sVukmEkdx",
      "metadata": {
        "colab": {
          "base_uri": "https://localhost:8080/",
          "height": 472
        },
        "id": "GB8sVukmEkdx",
        "outputId": "c123f65b-dcac-478c-c9e4-0ce8a128b3c5"
      },
      "outputs": [
        {
          "data": {
            "image/png": "[encoded data removed]",
            "text/plain": [
              "<Figure size 640x480 with 1 Axes>"
            ]
          },
          "metadata": {},
          "output_type": "display_data"
        }
      ],
      "source": [
        "plt.scatter(data['TV'],data['Sales'], label='Datapoints')\n",
        "plt.xlabel('TV-Ads')\n",
        "plt.ylabel('Sales')\n",
        "plt.legend()\n",
        "plt.title('Sales vs TV-Advertising')\n",
        "plt.show()"
      ]
    },
    {
      "cell_type": "markdown",
      "id": "UZBdJgusUEcz",
      "metadata": {
        "id": "UZBdJgusUEcz"
      },
      "source": [
        "Here we use matplotlibs [plt.scatterplot()](https://matplotlib.org/stable/gallery/shapes_and_collections/scatter.html#scatter-plot) to draw a scatterplot of the given data, it takes the (x,y) values as input. Then we give it a title , legend and labels.\n",
        "\n",
        "It is evident that the there is decent linear relationship between TV-Ads and Sales."
      ]
    },
    {
      "cell_type": "markdown",
      "id": "-15UzVT6Vio1",
      "metadata": {
        "id": "-15UzVT6Vio1"
      },
      "source": [
        "To further check this we will find the correlation between these two."
      ]
    },
    {
      "cell_type": "code",
      "execution_count": 223,
      "id": "OmvaMB8kFjOt",
      "metadata": {
        "colab": {
          "base_uri": "https://localhost:8080/",
          "height": 452
        },
        "id": "OmvaMB8kFjOt",
        "outputId": "9a8572b9-6df9-414e-bc60-1e7e3a866655"
      },
      "outputs": [
        {
          "data": {
            "text/plain": [
              "<Axes: >"
            ]
          },
          "execution_count": 223,
          "metadata": {},
          "output_type": "execute_result"
        },
        {
          "data": {
            "image/png": "[encoded data removed]",
            "text/plain": [
              "<Figure size 640x480 with 2 Axes>"
            ]
          },
          "metadata": {},
          "output_type": "display_data"
        }
      ],
      "source": [
        "import seaborn as sns\n",
        "\n",
        "correlation = data.corr()\n",
        "\n",
        "sns.heatmap(correlation, annot=True)"
      ]
    },
    {
      "cell_type": "markdown",
      "id": "0jXHFV4ZVtoJ",
      "metadata": {
        "id": "0jXHFV4ZVtoJ"
      },
      "source": [
        "Here we introduce a new library seaborn which is another library for plotting. [df.corr()](https://pandas.pydata.org/docs/reference/api/pandas.DataFrame.corr.html) returns a correlation matrix which consists of correlation between elements of one column with that of other columns.\n",
        "[sns.heatmap()](https://seaborn.pydata.org/generated/seaborn.heatmap.html) is then used to plot the heatmap of this correlation matrix.\n",
        "\n",
        "A value +1,-1 show perfect positive and negative correlations while 0 shows no correlation. As the correlation between TV-Ads and Sales is +0.78 it implies that there is a strong linear relationship between these two variables. And therefore we can use Linear Regression to model this."
      ]
    },
    {
      "cell_type": "markdown",
      "id": "GaDNuwXzYZ0q",
      "metadata": {
        "id": "GaDNuwXzYZ0q"
      },
      "source": [
        "Now comes what is perhaps the most important part of preparing your data before training. Splitting your data into training and testing sets. But Why?\n",
        "\n",
        "It is to make sure the model hasn't simply memorized all the answers as it could lead to something called [Overfitting](https://www.freecodecamp.org/news/what-is-overfitting-machine-learning/) where the model performs very well on training data but fails to generalize and doesn't perform well with new data.\n",
        "\n",
        "By splitting your data into train and test sets you can catch overfitting and proceed to fix it."
      ]
    },
    {
      "cell_type": "code",
      "execution_count": 224,
      "id": "6VC529zwGCRf",
      "metadata": {
        "id": "6VC529zwGCRf"
      },
      "outputs": [],
      "source": [
        "from sklearn.model_selection import train_test_split\n",
        "\n",
        "feature = ['TV']\n",
        "target = ['Sales']\n",
        "X = data[feature]\n",
        "y = data[target]\n",
        "X_train, X_test, y_train, y_test = train_test_split(X,y, test_size=0.2)"
      ]
    },
    {
      "cell_type": "markdown",
      "id": "X23Ywcggai1U",
      "metadata": {
        "id": "X23Ywcggai1U"
      },
      "source": [
        "We split our dataset into target and features (i.e variable we are trying to predict and variables we are trying to make the prediction with respectively).<br>\n",
        "The convention is to use **X** for features and **y** for targets.\n",
        "\n",
        "Then [train_test_split()]() is used for splitting, we provide X,y and the size of the test set as arguments. Usually 15-30% data is reserved for test sets here we will use 20% of the data."
      ]
    },
    {
      "cell_type": "markdown",
      "id": "18a64d9d",
      "metadata": {
        "id": "18a64d9d"
      },
      "source": [
        "### 3. Model Selection"
      ]
    },
    {
      "cell_type": "markdown",
      "id": "AEkeJSIbX7_K",
      "metadata": {
        "id": "AEkeJSIbX7_K"
      },
      "source": [
        "As we already know we will be using Linear Regression. There is not much to consider here. However, in a more complex dataset you would need to take other factors into consideration and test using multiple models."
      ]
    },
    {
      "cell_type": "code",
      "execution_count": 225,
      "id": "vTO2Hq-4F7xk",
      "metadata": {
        "id": "vTO2Hq-4F7xk"
      },
      "outputs": [],
      "source": [
        "from sklearn.model_selection import LinearRegression\n",
        "\n",
        "model = LinearRegression()"
      ]
    },
    {
      "cell_type": "markdown",
      "id": "nR0f6Vu3clXT",
      "metadata": {
        "id": "nR0f6Vu3clXT"
      },
      "source": [
        "Here we import and initialize the LinearRegression model.<br>\n",
        "Arguments can be provided while initializing models, these arguments are called hyperparamters. Hyperparameter tuning forms a significant part of ML. It can be done with knowledge of the inner-workings of the model or with techniques like [GridSearch](https://scikit-learn.org/stable/modules/generated/sklearn.model_selection.GridSearchCV.html#sklearn.model_selection.GridSearchCV) or [RandomizedSearch](https://scikit-learn.org/stable/modules/generated/sklearn.model_selection.RandomizedSearchCV.html#sklearn.model_selection.RandomizedSearchCV)."
      ]
    },
    {
      "cell_type": "markdown",
      "id": "2l9j5_ggdSP7",
      "metadata": {
        "id": "2l9j5_ggdSP7"
      },
      "source": [
        "### 4. Training"
      ]
    },
    {
      "cell_type": "code",
      "execution_count": 226,
      "id": "PZILxFXIHFJU",
      "metadata": {
        "colab": {
          "base_uri": "https://localhost:8080/",
          "height": 74
        },
        "id": "PZILxFXIHFJU",
        "outputId": "54f7e9d3-5aae-4467-c75a-1de21a0e2eb7"
      },
      "outputs": [
        {
          "data": {
            "text/html": [
              "<style>#sk-container-id-4 {color: black;background-color: white;}#sk-container-id-4 pre{padding: 0;}#sk-container-id-4 div.sk-toggleable {background-color: white;}#sk-container-id-4 label.sk-toggleable__label {cursor: pointer;display: block;width: 100%;margin-bottom: 0;padding: 0.3em;box-sizing: border-box;text-align: center;}#sk-container-id-4 label.sk-toggleable__label-arrow:before {content: \"▸\";float: left;margin-right: 0.25em;color: #696969;}#sk-container-id-4 label.sk-toggleable__label-arrow:hover:before {color: black;}#sk-container-id-4 div.sk-estimator:hover label.sk-toggleable__label-arrow:before {color: black;}#sk-container-id-4 div.sk-toggleable__content {max-height: 0;max-width: 0;overflow: hidden;text-align: left;background-color: #f0f8ff;}#sk-container-id-4 div.sk-toggleable__content pre {margin: 0.2em;color: black;border-radius: 0.25em;background-color: #f0f8ff;}#sk-container-id-4 input.sk-toggleable__control:checked~div.sk-toggleable__content {max-height: 200px;max-width: 100%;overflow: auto;}#sk-container-id-4 input.sk-toggleable__control:checked~label.sk-toggleable__label-arrow:before {content: \"▾\";}#sk-container-id-4 div.sk-estimator input.sk-toggleable__control:checked~label.sk-toggleable__label {background-color: #d4ebff;}#sk-container-id-4 div.sk-label input.sk-toggleable__control:checked~label.sk-toggleable__label {background-color: #d4ebff;}#sk-container-id-4 input.sk-hidden--visually {border: 0;clip: rect(1px 1px 1px 1px);clip: rect(1px, 1px, 1px, 1px);height: 1px;margin: -1px;overflow: hidden;padding: 0;position: absolute;width: 1px;}#sk-container-id-4 div.sk-estimator {font-family: monospace;background-color: #f0f8ff;border: 1px dotted black;border-radius: 0.25em;box-sizing: border-box;margin-bottom: 0.5em;}#sk-container-id-4 div.sk-estimator:hover {background-color: #d4ebff;}#sk-container-id-4 div.sk-parallel-item::after {content: \"\";width: 100%;border-bottom: 1px solid gray;flex-grow: 1;}#sk-container-id-4 div.sk-label:hover label.sk-toggleable__label {background-color: #d4ebff;}#sk-container-id-4 div.sk-serial::before {content: \"\";position: absolute;border-left: 1px solid gray;box-sizing: border-box;top: 0;bottom: 0;left: 50%;z-index: 0;}#sk-container-id-4 div.sk-serial {display: flex;flex-direction: column;align-items: center;background-color: white;padding-right: 0.2em;padding-left: 0.2em;position: relative;}#sk-container-id-4 div.sk-item {position: relative;z-index: 1;}#sk-container-id-4 div.sk-parallel {display: flex;align-items: stretch;justify-content: center;background-color: white;position: relative;}#sk-container-id-4 div.sk-item::before, #sk-container-id-4 div.sk-parallel-item::before {content: \"\";position: absolute;border-left: 1px solid gray;box-sizing: border-box;top: 0;bottom: 0;left: 50%;z-index: -1;}#sk-container-id-4 div.sk-parallel-item {display: flex;flex-direction: column;z-index: 1;position: relative;background-color: white;}#sk-container-id-4 div.sk-parallel-item:first-child::after {align-self: flex-end;width: 50%;}#sk-container-id-4 div.sk-parallel-item:last-child::after {align-self: flex-start;width: 50%;}#sk-container-id-4 div.sk-parallel-item:only-child::after {width: 0;}#sk-container-id-4 div.sk-dashed-wrapped {border: 1px dashed gray;margin: 0 0.4em 0.5em 0.4em;box-sizing: border-box;padding-bottom: 0.4em;background-color: white;}#sk-container-id-4 div.sk-label label {font-family: monospace;font-weight: bold;display: inline-block;line-height: 1.2em;}#sk-container-id-4 div.sk-label-container {text-align: center;}#sk-container-id-4 div.sk-container {/* jupyter's `normalize.less` sets `[hidden] { display: none; }` but bootstrap.min.css set `[hidden] { display: none !important; }` so we also need the `!important` here to be able to override the default hidden behavior on the sphinx rendered scikit-learn.org. See: https://github.com/scikit-learn/scikit-learn/issues/21755 */display: inline-block !important;position: relative;}#sk-container-id-4 div.sk-text-repr-fallback {display: none;}</style><div id=\"sk-container-id-4\" class=\"sk-top-container\"><div class=\"sk-text-repr-fallback\"><pre>LinearRegression()</pre><b>In a Jupyter environment, please rerun this cell to show the HTML representation or trust the notebook. <br />On GitHub, the HTML representation is unable to render, please try loading this page with nbviewer.org.</b></div><div class=\"sk-container\" hidden><div class=\"sk-item\"><div class=\"sk-estimator sk-toggleable\"><input class=\"sk-toggleable__control sk-hidden--visually\" id=\"sk-estimator-id-4\" type=\"checkbox\" checked><label for=\"sk-estimator-id-4\" class=\"sk-toggleable__label sk-toggleable__label-arrow\">LinearRegression</label><div class=\"sk-toggleable__content\"><pre>LinearRegression()</pre></div></div></div></div></div>"
            ],
            "text/plain": [
              "LinearRegression()"
            ]
          },
          "execution_count": 226,
          "metadata": {},
          "output_type": "execute_result"
        }
      ],
      "source": [
        "model.fit(X_train,y_train)"
      ]
    },
    {
      "cell_type": "markdown",
      "id": "iyThpJ1ldZXv",
      "metadata": {
        "id": "iyThpJ1ldZXv"
      },
      "source": [
        "Training is very simple we just provide the train features and targets and fit it to the model."
      ]
    },
    {
      "cell_type": "markdown",
      "id": "S69F822Undka",
      "metadata": {
        "id": "S69F822Undka"
      },
      "source": [
        "### 5. Testing"
      ]
    },
    {
      "cell_type": "code",
      "execution_count": 242,
      "id": "iksG6UhxHKAG",
      "metadata": {
        "colab": {
          "base_uri": "https://localhost:8080/"
        },
        "id": "iksG6UhxHKAG",
        "outputId": "fee4a52a-48cf-475d-c358-e526d7f6d940"
      },
      "outputs": [
        {
          "name": "stdout",
          "output_type": "stream",
          "text": [
            "MAE: 2.5034669623309953\n",
            "MSE: 10.136089053483042\n"
          ]
        }
      ],
      "source": [
        "from sklearn.metrics import mean_absolute_error, mean_squared_error\n",
        "\n",
        "y_preds = model.predict(X_test)\n",
        "\n",
        "MAE = mean_absolute_error(y_test, y_preds)\n",
        "\n",
        "MSE = mean_squared_error(y_test, y_preds)\n",
        "\n",
        "print(f\"MAE: {MAE}\")\n",
        "\n",
        "print(f\"MSE: {MSE}\")"
      ]
    },
    {
      "cell_type": "markdown",
      "id": "-w_FMjfahvlU",
      "metadata": {
        "id": "-w_FMjfahvlU"
      },
      "source": [
        "Here we pass the test features through the fitted model to get the predictions using [model.predict()](https://scikit-learn.org/stable/modules/generated/sklearn.linear_model.LinearRegression.html#sklearn.linear_model.LinearRegression.predict)<br>\n",
        "To test the model we calculate the error using [MAE](https://scikit-learn.org/stable/modules/generated/sklearn.metrics.mean_absolute_error.html) and [MSE](https://scikit-learn.org/stable/modules/generated/sklearn.metrics.mean_squared_error.html). The lower the value of these the more accurate the model is.<br>\n",
        "There is an interesting insight we can gain from the magnitude of the difference between MAE and MSE, as MSE is higher than MAE it implies that there are large errors or outliers in the predictions.\n",
        "\n",
        "Lets try to see whether it is correct.\n",
        "\n"
      ]
    },
    {
      "cell_type": "code",
      "execution_count": 228,
      "id": "5mdYe5KxIrTT",
      "metadata": {
        "colab": {
          "base_uri": "https://localhost:8080/",
          "height": 472
        },
        "id": "5mdYe5KxIrTT",
        "outputId": "a6e1abf8-cf1a-4132-e218-650295e800c9"
      },
      "outputs": [
        {
          "data": {
            "image/png": "[encoded data removed]",
            "text/plain": [
              "<Figure size 640x480 with 1 Axes>"
            ]
          },
          "metadata": {},
          "output_type": "display_data"
        }
      ],
      "source": [
        "plt.scatter(X_test, y_test, label='Actual data', color = 'red')\n",
        "plt.scatter(X_test, y_preds, label='Predictions', color = 'green')\n",
        "plt.legend()\n",
        "plt.xlabel('TV-Ads')\n",
        "plt.ylabel('Sales')\n",
        "plt.title('Sales vs TV-Advertising')\n",
        "plt.show()"
      ]
    },
    {
      "cell_type": "markdown",
      "id": "60c0YnMflg5d",
      "metadata": {
        "id": "60c0YnMflg5d"
      },
      "source": [
        "Plotting the actual values and their predictions. We can see that for the first half the errors are low but as we go further they increase rapidly due to the outliers."
      ]
    },
    {
      "cell_type": "markdown",
      "id": "jDRVXP7ynnc4",
      "metadata": {
        "id": "jDRVXP7ynnc4"
      },
      "source": [
        "Remember what we wanted?. The line of **best fit**. <br>\n",
        "\n",
        "We'll need to get the slope and y-intercept from the model to find the line."
      ]
    },
    {
      "cell_type": "code",
      "execution_count": 229,
      "id": "Sn9o7WUKJLfG",
      "metadata": {
        "colab": {
          "base_uri": "https://localhost:8080/",
          "height": 472
        },
        "id": "Sn9o7WUKJLfG",
        "outputId": "ea171be8-c044-4b08-ed5b-fe2b08795920"
      },
      "outputs": [
        {
          "data": {
            "image/png": "[encoded data removed]",
            "text/plain": [
              "<Figure size 640x480 with 1 Axes>"
            ]
          },
          "metadata": {},
          "output_type": "display_data"
        }
      ],
      "source": [
        "slope = model.coef_[0]\n",
        "intercept = model.intercept_\n",
        "x_line = np.linspace(0,300,3000)\n",
        "\n",
        "y_line = slope*x_line +  intercept\n",
        "\n",
        "plt.scatter(X,y, label='Og data')\n",
        "plt.plot(x_line,y_line, color = 'red', label='Line of Best fit')\n",
        "plt.legend()\n",
        "plt.xlabel('TV-Ads')\n",
        "plt.ylabel('Sales')\n",
        "plt.title('Sales vs TV-Advertising')\n",
        "plt.show()"
      ]
    },
    {
      "cell_type": "markdown",
      "id": "764qVjc0oJdp",
      "metadata": {
        "id": "764qVjc0oJdp"
      },
      "source": [
        "We can use [model.coef_]() and [model.intercept_]() to get the slope and intercept respectively. <br>\n",
        "\n",
        "We use general equation for a line:  $\\,\\, y=mx+c \\,\\,$ to plot the line.<br>\n",
        "[np.linspace()](https://numpy.org/doc/stable/reference/generated/numpy.linspace.html) is used to provide x values for the line as we cannot directly plot it.\n",
        "\n",
        "And with that we finally got the kind of plot we draw in labs. Although the plot doesn't perfectly match the data, it does a pretty decent job."
      ]
    },
    {
      "cell_type": "markdown",
      "id": "0b30cda3",
      "metadata": {
        "id": "0b30cda3"
      },
      "source": [
        "### 6. Save/Load Model"
      ]
    },
    {
      "cell_type": "markdown",
      "id": "x0aoQFDaqkOu",
      "metadata": {
        "id": "x0aoQFDaqkOu"
      },
      "source": [
        "Now that we have created and trained the model it is time to save it.<br>\n",
        "In order to save a model we will have to use a library called [joblib](). The model is saved in the pickle format."
      ]
    },
    {
      "cell_type": "code",
      "execution_count": 230,
      "id": "pEdsi1JiLguJ",
      "metadata": {
        "colab": {
          "base_uri": "https://localhost:8080/"
        },
        "id": "pEdsi1JiLguJ",
        "outputId": "901e194d-f1cd-4639-a0cd-a3121dc17447"
      },
      "outputs": [
        {
          "data": {
            "text/plain": [
              "['my_first_model.pkl']"
            ]
          },
          "execution_count": 230,
          "metadata": {},
          "output_type": "execute_result"
        }
      ],
      "source": [
        "import joblib\n",
        "\n",
        "joblib.dump(model, 'my_first_model.pkl')\n",
        "\n",
        "loaded_model = joblib.load('my_first_model.pkl')"
      ]
    },
    {
      "cell_type": "markdown",
      "id": "UGuBqrMTrTxC",
      "metadata": {
        "id": "UGuBqrMTrTxC"
      },
      "source": [
        "You use [joblib.dump()]() by passing the model and the filepath and name, make sure it ends with .pkl <br>\n",
        "To load the model you simply use [joblib.load()]() and pass the filepath of the model. You can use this to make further predictions."
      ]
    },
    {
      "cell_type": "markdown",
      "id": "65fcaf8a",
      "metadata": {
        "id": "65fcaf8a"
      },
      "source": [
        "And with that you have finally created and trained your first ML model <br>\n",
        "\n",
        "You deserve a pat on your back.\n",
        "\n",
        "Theres a LOT MORE to Machine Learning than what is present in this notebook.\n",
        "The point of this was to get your hands dirty so that you feel comfortable implementing things on your own. Experiment, experiment, experiment, go to [kaggle.com](kaggle.com) find datasets that you like try out different models, Use the roadmap to learn more, start using more advanced techniques. Deploy your models for others to see . Keep Experimenting! <br>\n",
        "\n",
        "Please feel free to ask any doubts or point out any mistakes, in the group or you can DM any of us.\n",
        "\n",
        "## Happy Learning and a very Happy New Year ! ! !"
      ]
    }
  ],
  "metadata": {
    "colab": {
      "provenance": []
    },
    "kernelspec": {
      "display_name": "Python 3 (ipykernel)",
      "language": "python",
      "name": "python3"
    },
    "language_info": {
      "codemirror_mode": {
        "name": "ipython",
        "version": 3
      },
      "file_extension": ".py",
      "mimetype": "text/x-python",
      "name": "python",
      "nbconvert_exporter": "python",
      "pygments_lexer": "ipython3",
      "version": "3.10.9"
    }
  },
  "nbformat": 4,
  "nbformat_minor": 5
}
